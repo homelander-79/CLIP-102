{
 "cells": [
  {
   "cell_type": "markdown",
   "id": "3d9ad961",
   "metadata": {},
   "source": [
    "## Import Libraries"
   ]
  },
  {
   "cell_type": "code",
   "execution_count": 1,
   "id": "330c0177",
   "metadata": {},
   "outputs": [],
   "source": [
    "import os\n",
    "import torch\n",
    "import torch.nn as nn\n",
    "from torch.utils.data import Dataset, DataLoader\n",
    "from tqdm import tqdm"
   ]
  },
  {
   "cell_type": "markdown",
   "id": "e36ec3a4",
   "metadata": {},
   "source": [
    "## Rading Data"
   ]
  },
  {
   "cell_type": "code",
   "execution_count": 2,
   "id": "6a4af0a9",
   "metadata": {},
   "outputs": [],
   "source": [
    "class FeatureDataset(Dataset):\n",
    "    def __init__(self, features_path):\n",
    "        self.features = torch.load(features_path)\n",
    "\n",
    "    def __len__(self):\n",
    "        return len(self.features)\n",
    "\n",
    "    def __getitem__(self, idx):\n",
    "        return self.features[idx]"
   ]
  },
  {
   "cell_type": "code",
   "execution_count": 3,
   "id": "3a637dda",
   "metadata": {},
   "outputs": [
    {
     "name": "stderr",
     "output_type": "stream",
     "text": [
      "C:\\Users\\moah\\AppData\\Local\\Temp\\ipykernel_19128\\4113187193.py:3: FutureWarning: You are using `torch.load` with `weights_only=False` (the current default value), which uses the default pickle module implicitly. It is possible to construct malicious pickle data which will execute arbitrary code during unpickling (See https://github.com/pytorch/pytorch/blob/main/SECURITY.md#untrusted-models for more details). In a future release, the default value for `weights_only` will be flipped to `True`. This limits the functions that could be executed during unpickling. Arbitrary objects will no longer be allowed to be loaded via this mode unless they are explicitly allowlisted by the user via `torch.serialization.add_safe_globals`. We recommend you start setting `weights_only=True` for any use case where you don't have full control of the loaded file. Please open an issue on GitHub for any issues related to this experimental feature.\n",
      "  self.features = torch.load(features_path)\n"
     ]
    }
   ],
   "source": [
    "train_dataset = FeatureDataset('./entry_data/train_data.pt')\n",
    "test_dataset = FeatureDataset('./entry_data/test_data.pt')\n",
    "valid_dataset = FeatureDataset('./entry_data/valid_data.pt')"
   ]
  },
  {
   "cell_type": "code",
   "execution_count": 4,
   "id": "61c838a4",
   "metadata": {},
   "outputs": [],
   "source": [
    "BATCH_SIZE = 64\n",
    "train_dataloader = DataLoader(train_dataset, batch_size=BATCH_SIZE, shuffle=True)\n",
    "test_dataloader = DataLoader(test_dataset, batch_size=BATCH_SIZE, shuffle=False)\n",
    "valid_dataloader = DataLoader(valid_dataset, batch_size=BATCH_SIZE, shuffle=False)"
   ]
  },
  {
   "cell_type": "code",
   "execution_count": 10,
   "id": "520f336c",
   "metadata": {},
   "outputs": [],
   "source": [
    "l=next(iter(valid_dataloader))"
   ]
  },
  {
   "cell_type": "code",
   "execution_count": 22,
   "id": "05689d16",
   "metadata": {},
   "outputs": [
    {
     "data": {
      "text/plain": [
       "dict_keys(['image_features', 'label'])"
      ]
     },
     "execution_count": 22,
     "metadata": {},
     "output_type": "execute_result"
    }
   ],
   "source": [
    "l.keys()"
   ]
  },
  {
   "cell_type": "markdown",
   "id": "0ddb7f9b",
   "metadata": {},
   "source": [
    "## classification network"
   ]
  },
  {
   "cell_type": "code",
   "execution_count": 74,
   "id": "8a578bb7",
   "metadata": {},
   "outputs": [],
   "source": [
    "class IP102(nn.Module):\n",
    "    def __init__(self, input_dim , num_classes):\n",
    "        super(IP102, self).__init__()\n",
    "\n",
    "        self.network = nn.Sequential(\n",
    "            nn.Linear(input_dim, 512),\n",
    "            nn.BatchNorm1d(512), \n",
    "            nn.ReLU(),\n",
    "            nn.Dropout(0.5),     \n",
    "\n",
    "            nn.Linear(512, 256),\n",
    "            nn.BatchNorm1d(256),\n",
    "            nn.ReLU(),\n",
    "            nn.Dropout(0.3),    \n",
    "\n",
    "            nn.Linear(256, num_classes)\n",
    "        )\n",
    "\n",
    "    def forward(self,x):\n",
    "        return self.network(x)"
   ]
  },
  {
   "cell_type": "code",
   "execution_count": 75,
   "id": "d83a7a48",
   "metadata": {},
   "outputs": [],
   "source": [
    "INPUT_DIM = 1024 \n",
    "NUM_CLASSES = 102 \n",
    "NUM_EPOCHS = 10\n",
    "device = torch.device(\"cuda\" if torch.cuda.is_available() else \"cpu\")"
   ]
  },
  {
   "cell_type": "markdown",
   "id": "60e5862d",
   "metadata": {},
   "source": [
    "## Training Faze"
   ]
  },
  {
   "cell_type": "code",
   "execution_count": 76,
   "id": "0f99d124",
   "metadata": {},
   "outputs": [],
   "source": [
    "def evaluate(\n",
    "    model: nn.Module,\n",
    "    dataloader: DataLoader,\n",
    "    criterion: nn.Module,\n",
    "    device: torch.device\n",
    "):\n",
    "    model.eval()  \n",
    "    running_loss = 0.0\n",
    "    correct_predictions = 0\n",
    "    total_samples = 0\n",
    "    \n",
    "    with torch.no_grad():\n",
    "        for batch in tqdm(dataloader, desc=\"Evaluating\"):\n",
    "            features = batch['image_features'].to(device)\n",
    "            labels = batch['label'].to(device)\n",
    "            \n",
    "            if features.dim() == 3 and features.shape[1] == 1:\n",
    "                features = features.squeeze(1)\n",
    "\n",
    "            outputs = model(features)\n",
    "            loss = criterion(outputs, labels)\n",
    "            \n",
    "            running_loss += loss.item() * features.size(0)\n",
    "            _, predicted = torch.max(outputs, 1)\n",
    "            total_samples += labels.size(0)\n",
    "            correct_predictions += (predicted == labels).sum().item()\n",
    "            \n",
    "    epoch_loss = running_loss / total_samples\n",
    "    epoch_acc = correct_predictions / total_samples\n",
    "    \n",
    "    return epoch_loss, epoch_acc"
   ]
  },
  {
   "cell_type": "code",
   "execution_count": 82,
   "id": "7cde2cbb",
   "metadata": {},
   "outputs": [],
   "source": [
    "def train(\n",
    "    model,\n",
    "    train_dataloader,\n",
    "    valid_dataloader,\n",
    "    optimizer,\n",
    "    criterion,\n",
    "    epochs,\n",
    "    device\n",
    "):\n",
    "    history = {\n",
    "        'train_loss': [], 'train_acc': [],\n",
    "        'val_loss': [], 'val_acc': []\n",
    "    }\n",
    "    \n",
    "    model.to(device)\n",
    "    for epoch in range(epochs):\n",
    "        model.train() \n",
    "        train_running_loss = 0.0\n",
    "        train_correct_predictions = 0\n",
    "        train_total_samples = 0\n",
    "        \n",
    "        train_loader_tqdm = tqdm(train_dataloader, desc=f\"Epoch {epoch+1}/{epochs} [Training]\")\n",
    "        \n",
    "        noise_level = 0.3\n",
    "        for batch in train_loader_tqdm:\n",
    "            features = batch['image_features'].to(device)\n",
    "            labels = batch['label'].to(device)\n",
    "            \n",
    "            if features.dim() == 3 and features.shape[1] == 1:\n",
    "                features = features.squeeze(1)\n",
    "            \n",
    "            if model.training:\n",
    "                features = features + (torch.randn_like(features) * noise_level)\n",
    "\n",
    "\n",
    "            optimizer.zero_grad()\n",
    "            outputs = model(features)\n",
    "            loss = criterion(outputs, labels)\n",
    "            loss.backward()\n",
    "            optimizer.step()\n",
    "            \n",
    "            train_running_loss += loss.item() * features.size(0)\n",
    "            _, predicted = torch.max(outputs, 1)\n",
    "            train_total_samples += labels.size(0)\n",
    "            train_correct_predictions += (predicted == labels).sum().item()\n",
    "            train_loader_tqdm.set_postfix(loss=loss.item())\n",
    "\n",
    "        epoch_train_loss = train_running_loss / train_total_samples\n",
    "        epoch_train_acc = train_correct_predictions / train_total_samples\n",
    "        history['train_loss'].append(epoch_train_loss)\n",
    "        history['train_acc'].append(epoch_train_acc)\n",
    "\n",
    "        val_loss, val_acc = evaluate(model, valid_dataloader, criterion, device)\n",
    "        history['val_loss'].append(val_loss)\n",
    "        history['val_acc'].append(val_acc)\n",
    "        \n",
    "        print(\n",
    "            f\"Epoch {epoch+1}/{epochs} | \"\n",
    "            f\"Train Loss: {epoch_train_loss:.4f}, Train Acc: {epoch_train_acc:.4f} | \"\n",
    "            f\"Val Loss: {val_loss:.4f}, Val Acc: {val_acc:.4f}\"\n",
    "        )\n",
    "    \n",
    "    print(\"Training finished!\")\n",
    "    return history\n"
   ]
  },
  {
   "cell_type": "code",
   "execution_count": 89,
   "id": "8bf043bd",
   "metadata": {},
   "outputs": [],
   "source": [
    "criterion = nn.CrossEntropyLoss()\n",
    "model = IP102(input_dim=INPUT_DIM, num_classes=NUM_CLASSES)\n",
    "\n",
    "optimizer = torch.optim.AdamW(model.parameters(), lr=1e-3)"
   ]
  },
  {
   "cell_type": "code",
   "execution_count": 90,
   "id": "e0e95c44",
   "metadata": {},
   "outputs": [
    {
     "name": "stderr",
     "output_type": "stream",
     "text": [
      "Epoch 1/30 [Training]: 100%|██████████| 705/705 [00:02<00:00, 296.13it/s, loss=1.25]\n",
      "Evaluating: 100%|██████████| 118/118 [00:00<00:00, 1453.20it/s]\n"
     ]
    },
    {
     "name": "stdout",
     "output_type": "stream",
     "text": [
      "Epoch 1/30 | Train Loss: 1.9434, Train Acc: 0.5031 | Val Loss: 1.3476, Val Acc: 0.6183\n"
     ]
    },
    {
     "name": "stderr",
     "output_type": "stream",
     "text": [
      "Epoch 2/30 [Training]: 100%|██████████| 705/705 [00:02<00:00, 331.48it/s, loss=1.57] \n",
      "Evaluating: 100%|██████████| 118/118 [00:00<00:00, 1101.00it/s]\n"
     ]
    },
    {
     "name": "stdout",
     "output_type": "stream",
     "text": [
      "Epoch 2/30 | Train Loss: 1.4228, Train Acc: 0.5962 | Val Loss: 1.1961, Val Acc: 0.6520\n"
     ]
    },
    {
     "name": "stderr",
     "output_type": "stream",
     "text": [
      "Epoch 3/30 [Training]: 100%|██████████| 705/705 [00:02<00:00, 319.70it/s, loss=0.982]\n",
      "Evaluating: 100%|██████████| 118/118 [00:00<00:00, 1247.49it/s]\n"
     ]
    },
    {
     "name": "stdout",
     "output_type": "stream",
     "text": [
      "Epoch 3/30 | Train Loss: 1.3099, Train Acc: 0.6227 | Val Loss: 1.1480, Val Acc: 0.6628\n"
     ]
    },
    {
     "name": "stderr",
     "output_type": "stream",
     "text": [
      "Epoch 4/30 [Training]: 100%|██████████| 705/705 [00:02<00:00, 313.50it/s, loss=1.26] \n",
      "Evaluating: 100%|██████████| 118/118 [00:00<00:00, 1566.02it/s]\n"
     ]
    },
    {
     "name": "stdout",
     "output_type": "stream",
     "text": [
      "Epoch 4/30 | Train Loss: 1.2351, Train Acc: 0.6398 | Val Loss: 1.1028, Val Acc: 0.6801\n"
     ]
    },
    {
     "name": "stderr",
     "output_type": "stream",
     "text": [
      "Epoch 5/30 [Training]: 100%|██████████| 705/705 [00:02<00:00, 322.62it/s, loss=1.13] \n",
      "Evaluating: 100%|██████████| 118/118 [00:00<00:00, 1326.93it/s]\n"
     ]
    },
    {
     "name": "stdout",
     "output_type": "stream",
     "text": [
      "Epoch 5/30 | Train Loss: 1.1791, Train Acc: 0.6526 | Val Loss: 1.0786, Val Acc: 0.6813\n"
     ]
    },
    {
     "name": "stderr",
     "output_type": "stream",
     "text": [
      "Epoch 6/30 [Training]: 100%|██████████| 705/705 [00:02<00:00, 314.09it/s, loss=0.754]\n",
      "Evaluating: 100%|██████████| 118/118 [00:00<00:00, 1411.39it/s]\n"
     ]
    },
    {
     "name": "stdout",
     "output_type": "stream",
     "text": [
      "Epoch 6/30 | Train Loss: 1.1430, Train Acc: 0.6601 | Val Loss: 1.0578, Val Acc: 0.6902\n"
     ]
    },
    {
     "name": "stderr",
     "output_type": "stream",
     "text": [
      "Epoch 7/30 [Training]: 100%|██████████| 705/705 [00:02<00:00, 238.27it/s, loss=0.915]\n",
      "Evaluating: 100%|██████████| 118/118 [00:00<00:00, 1367.17it/s]\n"
     ]
    },
    {
     "name": "stdout",
     "output_type": "stream",
     "text": [
      "Epoch 7/30 | Train Loss: 1.1098, Train Acc: 0.6694 | Val Loss: 1.0419, Val Acc: 0.6923\n"
     ]
    },
    {
     "name": "stderr",
     "output_type": "stream",
     "text": [
      "Epoch 8/30 [Training]: 100%|██████████| 705/705 [00:02<00:00, 316.16it/s, loss=1.26] \n",
      "Evaluating: 100%|██████████| 118/118 [00:00<00:00, 1584.33it/s]\n"
     ]
    },
    {
     "name": "stdout",
     "output_type": "stream",
     "text": [
      "Epoch 8/30 | Train Loss: 1.0801, Train Acc: 0.6788 | Val Loss: 1.0253, Val Acc: 0.7002\n"
     ]
    },
    {
     "name": "stderr",
     "output_type": "stream",
     "text": [
      "Epoch 9/30 [Training]: 100%|██████████| 705/705 [00:01<00:00, 353.64it/s, loss=1.36] \n",
      "Evaluating: 100%|██████████| 118/118 [00:00<00:00, 1575.44it/s]\n"
     ]
    },
    {
     "name": "stdout",
     "output_type": "stream",
     "text": [
      "Epoch 9/30 | Train Loss: 1.0511, Train Acc: 0.6838 | Val Loss: 1.0158, Val Acc: 0.6998\n"
     ]
    },
    {
     "name": "stderr",
     "output_type": "stream",
     "text": [
      "Epoch 10/30 [Training]: 100%|██████████| 705/705 [00:01<00:00, 379.73it/s, loss=1.25] \n",
      "Evaluating: 100%|██████████| 118/118 [00:00<00:00, 1521.44it/s]\n"
     ]
    },
    {
     "name": "stdout",
     "output_type": "stream",
     "text": [
      "Epoch 10/30 | Train Loss: 1.0357, Train Acc: 0.6887 | Val Loss: 1.0042, Val Acc: 0.7022\n"
     ]
    },
    {
     "name": "stderr",
     "output_type": "stream",
     "text": [
      "Epoch 11/30 [Training]: 100%|██████████| 705/705 [00:02<00:00, 350.99it/s, loss=1.27] \n",
      "Evaluating: 100%|██████████| 118/118 [00:00<00:00, 1501.68it/s]\n"
     ]
    },
    {
     "name": "stdout",
     "output_type": "stream",
     "text": [
      "Epoch 11/30 | Train Loss: 1.0040, Train Acc: 0.6971 | Val Loss: 0.9952, Val Acc: 0.7078\n"
     ]
    },
    {
     "name": "stderr",
     "output_type": "stream",
     "text": [
      "Epoch 12/30 [Training]: 100%|██████████| 705/705 [00:02<00:00, 344.07it/s, loss=1.09] \n",
      "Evaluating: 100%|██████████| 118/118 [00:00<00:00, 1049.65it/s]\n"
     ]
    },
    {
     "name": "stdout",
     "output_type": "stream",
     "text": [
      "Epoch 12/30 | Train Loss: 0.9920, Train Acc: 0.6960 | Val Loss: 0.9993, Val Acc: 0.7036\n"
     ]
    },
    {
     "name": "stderr",
     "output_type": "stream",
     "text": [
      "Epoch 13/30 [Training]: 100%|██████████| 705/705 [00:02<00:00, 337.37it/s, loss=1.44] \n",
      "Evaluating: 100%|██████████| 118/118 [00:00<00:00, 1257.55it/s]\n"
     ]
    },
    {
     "name": "stdout",
     "output_type": "stream",
     "text": [
      "Epoch 13/30 | Train Loss: 0.9696, Train Acc: 0.7031 | Val Loss: 0.9882, Val Acc: 0.7075\n"
     ]
    },
    {
     "name": "stderr",
     "output_type": "stream",
     "text": [
      "Epoch 14/30 [Training]: 100%|██████████| 705/705 [00:02<00:00, 330.34it/s, loss=0.901]\n",
      "Evaluating: 100%|██████████| 118/118 [00:00<00:00, 1220.98it/s]\n"
     ]
    },
    {
     "name": "stdout",
     "output_type": "stream",
     "text": [
      "Epoch 14/30 | Train Loss: 0.9486, Train Acc: 0.7101 | Val Loss: 0.9829, Val Acc: 0.7103\n"
     ]
    },
    {
     "name": "stderr",
     "output_type": "stream",
     "text": [
      "Epoch 15/30 [Training]: 100%|██████████| 705/705 [00:02<00:00, 322.41it/s, loss=1.43] \n",
      "Evaluating: 100%|██████████| 118/118 [00:00<00:00, 1445.25it/s]\n"
     ]
    },
    {
     "name": "stdout",
     "output_type": "stream",
     "text": [
      "Epoch 15/30 | Train Loss: 0.9380, Train Acc: 0.7115 | Val Loss: 0.9682, Val Acc: 0.7104\n"
     ]
    },
    {
     "name": "stderr",
     "output_type": "stream",
     "text": [
      "Epoch 16/30 [Training]: 100%|██████████| 705/705 [00:02<00:00, 340.75it/s, loss=1.1]  \n",
      "Evaluating: 100%|██████████| 118/118 [00:00<00:00, 1330.81it/s]\n"
     ]
    },
    {
     "name": "stdout",
     "output_type": "stream",
     "text": [
      "Epoch 16/30 | Train Loss: 0.9219, Train Acc: 0.7160 | Val Loss: 0.9610, Val Acc: 0.7167\n"
     ]
    },
    {
     "name": "stderr",
     "output_type": "stream",
     "text": [
      "Epoch 17/30 [Training]: 100%|██████████| 705/705 [00:02<00:00, 332.26it/s, loss=0.968]\n",
      "Evaluating: 100%|██████████| 118/118 [00:00<00:00, 1282.68it/s]\n"
     ]
    },
    {
     "name": "stdout",
     "output_type": "stream",
     "text": [
      "Epoch 17/30 | Train Loss: 0.9151, Train Acc: 0.7173 | Val Loss: 0.9657, Val Acc: 0.7146\n"
     ]
    },
    {
     "name": "stderr",
     "output_type": "stream",
     "text": [
      "Epoch 18/30 [Training]: 100%|██████████| 705/705 [00:02<00:00, 317.62it/s, loss=0.457]\n",
      "Evaluating: 100%|██████████| 118/118 [00:00<00:00, 1188.07it/s]\n"
     ]
    },
    {
     "name": "stdout",
     "output_type": "stream",
     "text": [
      "Epoch 18/30 | Train Loss: 0.8947, Train Acc: 0.7265 | Val Loss: 0.9582, Val Acc: 0.7184\n"
     ]
    },
    {
     "name": "stderr",
     "output_type": "stream",
     "text": [
      "Epoch 19/30 [Training]: 100%|██████████| 705/705 [00:02<00:00, 327.84it/s, loss=0.678]\n",
      "Evaluating: 100%|██████████| 118/118 [00:00<00:00, 1609.98it/s]\n"
     ]
    },
    {
     "name": "stdout",
     "output_type": "stream",
     "text": [
      "Epoch 19/30 | Train Loss: 0.8807, Train Acc: 0.7261 | Val Loss: 0.9568, Val Acc: 0.7202\n"
     ]
    },
    {
     "name": "stderr",
     "output_type": "stream",
     "text": [
      "Epoch 20/30 [Training]: 100%|██████████| 705/705 [00:02<00:00, 348.81it/s, loss=1.45] \n",
      "Evaluating: 100%|██████████| 118/118 [00:00<00:00, 1330.52it/s]\n"
     ]
    },
    {
     "name": "stdout",
     "output_type": "stream",
     "text": [
      "Epoch 20/30 | Train Loss: 0.8687, Train Acc: 0.7284 | Val Loss: 0.9587, Val Acc: 0.7219\n"
     ]
    },
    {
     "name": "stderr",
     "output_type": "stream",
     "text": [
      "Epoch 21/30 [Training]: 100%|██████████| 705/705 [00:02<00:00, 339.61it/s, loss=0.989]\n",
      "Evaluating: 100%|██████████| 118/118 [00:00<00:00, 1220.06it/s]\n"
     ]
    },
    {
     "name": "stdout",
     "output_type": "stream",
     "text": [
      "Epoch 21/30 | Train Loss: 0.8587, Train Acc: 0.7297 | Val Loss: 0.9577, Val Acc: 0.7179\n"
     ]
    },
    {
     "name": "stderr",
     "output_type": "stream",
     "text": [
      "Epoch 22/30 [Training]: 100%|██████████| 705/705 [00:02<00:00, 335.62it/s, loss=1.36] \n",
      "Evaluating: 100%|██████████| 118/118 [00:00<00:00, 1226.65it/s]\n"
     ]
    },
    {
     "name": "stdout",
     "output_type": "stream",
     "text": [
      "Epoch 22/30 | Train Loss: 0.8444, Train Acc: 0.7368 | Val Loss: 0.9495, Val Acc: 0.7219\n"
     ]
    },
    {
     "name": "stderr",
     "output_type": "stream",
     "text": [
      "Epoch 23/30 [Training]: 100%|██████████| 705/705 [00:02<00:00, 330.61it/s, loss=1]    \n",
      "Evaluating: 100%|██████████| 118/118 [00:00<00:00, 1466.21it/s]\n"
     ]
    },
    {
     "name": "stdout",
     "output_type": "stream",
     "text": [
      "Epoch 23/30 | Train Loss: 0.8376, Train Acc: 0.7355 | Val Loss: 0.9505, Val Acc: 0.7226\n"
     ]
    },
    {
     "name": "stderr",
     "output_type": "stream",
     "text": [
      "Epoch 24/30 [Training]: 100%|██████████| 705/705 [00:02<00:00, 344.10it/s, loss=0.844]\n",
      "Evaluating: 100%|██████████| 118/118 [00:00<00:00, 1317.81it/s]\n"
     ]
    },
    {
     "name": "stdout",
     "output_type": "stream",
     "text": [
      "Epoch 24/30 | Train Loss: 0.8360, Train Acc: 0.7397 | Val Loss: 0.9548, Val Acc: 0.7215\n"
     ]
    },
    {
     "name": "stderr",
     "output_type": "stream",
     "text": [
      "Epoch 25/30 [Training]: 100%|██████████| 705/705 [00:02<00:00, 331.29it/s, loss=0.935]\n",
      "Evaluating: 100%|██████████| 118/118 [00:00<00:00, 1267.03it/s]\n"
     ]
    },
    {
     "name": "stdout",
     "output_type": "stream",
     "text": [
      "Epoch 25/30 | Train Loss: 0.8206, Train Acc: 0.7437 | Val Loss: 0.9413, Val Acc: 0.7226\n"
     ]
    },
    {
     "name": "stderr",
     "output_type": "stream",
     "text": [
      "Epoch 26/30 [Training]: 100%|██████████| 705/705 [00:02<00:00, 328.04it/s, loss=0.646]\n",
      "Evaluating: 100%|██████████| 118/118 [00:00<00:00, 1212.09it/s]\n"
     ]
    },
    {
     "name": "stdout",
     "output_type": "stream",
     "text": [
      "Epoch 26/30 | Train Loss: 0.8118, Train Acc: 0.7443 | Val Loss: 0.9497, Val Acc: 0.7255\n"
     ]
    },
    {
     "name": "stderr",
     "output_type": "stream",
     "text": [
      "Epoch 27/30 [Training]: 100%|██████████| 705/705 [00:02<00:00, 327.22it/s, loss=0.972]\n",
      "Evaluating: 100%|██████████| 118/118 [00:00<00:00, 1404.13it/s]\n"
     ]
    },
    {
     "name": "stdout",
     "output_type": "stream",
     "text": [
      "Epoch 27/30 | Train Loss: 0.7990, Train Acc: 0.7469 | Val Loss: 0.9417, Val Acc: 0.7271\n"
     ]
    },
    {
     "name": "stderr",
     "output_type": "stream",
     "text": [
      "Epoch 28/30 [Training]: 100%|██████████| 705/705 [00:02<00:00, 341.24it/s, loss=0.34] \n",
      "Evaluating: 100%|██████████| 118/118 [00:00<00:00, 1300.77it/s]\n"
     ]
    },
    {
     "name": "stdout",
     "output_type": "stream",
     "text": [
      "Epoch 28/30 | Train Loss: 0.8012, Train Acc: 0.7451 | Val Loss: 0.9416, Val Acc: 0.7266\n"
     ]
    },
    {
     "name": "stderr",
     "output_type": "stream",
     "text": [
      "Epoch 29/30 [Training]: 100%|██████████| 705/705 [00:02<00:00, 328.92it/s, loss=0.682]\n",
      "Evaluating: 100%|██████████| 118/118 [00:00<00:00, 1292.27it/s]\n"
     ]
    },
    {
     "name": "stdout",
     "output_type": "stream",
     "text": [
      "Epoch 29/30 | Train Loss: 0.7923, Train Acc: 0.7483 | Val Loss: 0.9394, Val Acc: 0.7262\n"
     ]
    },
    {
     "name": "stderr",
     "output_type": "stream",
     "text": [
      "Epoch 30/30 [Training]: 100%|██████████| 705/705 [00:02<00:00, 328.06it/s, loss=0.774]\n",
      "Evaluating: 100%|██████████| 118/118 [00:00<00:00, 1215.01it/s]"
     ]
    },
    {
     "name": "stdout",
     "output_type": "stream",
     "text": [
      "Epoch 30/30 | Train Loss: 0.7849, Train Acc: 0.7516 | Val Loss: 0.9419, Val Acc: 0.7264\n",
      "Training finished!\n"
     ]
    },
    {
     "name": "stderr",
     "output_type": "stream",
     "text": [
      "\n"
     ]
    }
   ],
   "source": [
    "history = train(\n",
    "    model,\n",
    "    train_dataloader,\n",
    "    valid_dataloader,\n",
    "    optimizer,\n",
    "    criterion,\n",
    "    30,\n",
    "    device\n",
    "    )"
   ]
  },
  {
   "cell_type": "markdown",
   "id": "41765116",
   "metadata": {},
   "source": [
    "## evaluatation"
   ]
  },
  {
   "cell_type": "code",
   "execution_count": 91,
   "id": "8337aef1",
   "metadata": {},
   "outputs": [
    {
     "name": "stderr",
     "output_type": "stream",
     "text": [
      "Evaluating: 100%|██████████| 354/354 [00:00<00:00, 672.25it/s]\n"
     ]
    },
    {
     "data": {
      "text/plain": [
       "(0.9558765508731557, 0.7215615190768823)"
      ]
     },
     "execution_count": 91,
     "metadata": {},
     "output_type": "execute_result"
    }
   ],
   "source": [
    "evaluate(\n",
    "    model,\n",
    "    test_dataloader,\n",
    "    criterion,\n",
    "    device\n",
    ")"
   ]
  },
  {
   "cell_type": "code",
   "execution_count": 92,
   "id": "b53480cc",
   "metadata": {},
   "outputs": [
    {
     "data": {
      "image/png": "[encoded data removed]",
      "text/plain": [
       "<Figure size 1200x500 with 2 Axes>"
      ]
     },
     "metadata": {},
     "output_type": "display_data"
    }
   ],
   "source": [
    "import matplotlib.pyplot as plt\n",
    "\n",
    "plt.figure(figsize=(12, 5))\n",
    "plt.subplot(1, 2, 1)\n",
    "plt.plot(history['train_loss'], label='Train Loss')\n",
    "plt.plot(history['val_loss'], label='Validation Loss')\n",
    "plt.title('Loss History')\n",
    "plt.legend()\n",
    "\n",
    "plt.subplot(1, 2, 2)\n",
    "plt.plot(history['train_acc'], label='Train Accuracy')\n",
    "plt.plot(history['val_acc'], label='Validation Accuracy')\n",
    "plt.title('Accuracy History')\n",
    "plt.legend()\n",
    "plt.show()"
   ]
  }
 ],
 "metadata": {
  "kernelspec": {
   "display_name": "base",
   "language": "python",
   "name": "python3"
  },
  "language_info": {
   "codemirror_mode": {
    "name": "ipython",
    "version": 3
   },
   "file_extension": ".py",
   "mimetype": "text/x-python",
   "name": "python",
   "nbconvert_exporter": "python",
   "pygments_lexer": "ipython3",
   "version": "3.12.7"
  }
 },
 "nbformat": 4,
 "nbformat_minor": 5
}
