{
 "cells": [
  {
   "cell_type": "markdown",
   "id": "7af2fcfa",
   "metadata": {},
   "source": [
    "## Import Libraries"
   ]
  },
  {
   "cell_type": "code",
   "execution_count": 12,
   "id": "82ed5504",
   "metadata": {},
   "outputs": [],
   "source": [
    "import os\n",
    "import torch\n",
    "import torch.nn as nn\n",
    "from torch.utils.data import Dataset, DataLoader\n",
    "from tqdm import tqdm\n",
    "import torch.nn.functional as F\n",
    "from tqdm import tqdm\n",
    "import matplotlib.pyplot as plt"
   ]
  },
  {
   "cell_type": "markdown",
   "id": "45e9848b",
   "metadata": {},
   "source": [
    "## Rading Data"
   ]
  },
  {
   "cell_type": "code",
   "execution_count": 2,
   "id": "82c1aeac",
   "metadata": {},
   "outputs": [],
   "source": [
    "class FeatureDataset(Dataset):\n",
    "    def __init__(self, data_path):\n",
    "        self.data = torch.load(data_path) \n",
    "        \n",
    "    def __len__(self):\n",
    "        return len(self.data)\n",
    "\n",
    "    def __getitem__(self, idx):\n",
    "        item = self.data[idx]\n",
    "        image_feature = item['image_features'].squeeze(0)\n",
    "        label = item['label']\n",
    "        \n",
    "        return image_feature, torch.tensor(label, dtype=torch.long)"
   ]
  },
  {
   "cell_type": "code",
   "execution_count": 3,
   "id": "71292bd4",
   "metadata": {},
   "outputs": [
    {
     "name": "stderr",
     "output_type": "stream",
     "text": [
      "C:\\Users\\moah\\AppData\\Local\\Temp\\ipykernel_22656\\1174989720.py:3: FutureWarning: You are using `torch.load` with `weights_only=False` (the current default value), which uses the default pickle module implicitly. It is possible to construct malicious pickle data which will execute arbitrary code during unpickling (See https://github.com/pytorch/pytorch/blob/main/SECURITY.md#untrusted-models for more details). In a future release, the default value for `weights_only` will be flipped to `True`. This limits the functions that could be executed during unpickling. Arbitrary objects will no longer be allowed to be loaded via this mode unless they are explicitly allowlisted by the user via `torch.serialization.add_safe_globals`. We recommend you start setting `weights_only=True` for any use case where you don't have full control of the loaded file. Please open an issue on GitHub for any issues related to this experimental feature.\n",
      "  self.data = torch.load(data_path)\n"
     ]
    }
   ],
   "source": [
    "train_dataset = FeatureDataset('./entry_data/train_data.pt')\n",
    "valid_dataset = FeatureDataset('./entry_data/valid_data.pt')\n",
    "test_dataset  = FeatureDataset('./entry_data/test_data.pt')\n",
    "\n",
    "\n",
    "train_dataloader = DataLoader(train_dataset, batch_size=64, shuffle=True)\n",
    "valid_dataloader = DataLoader(valid_dataset, batch_size=64, shuffle=False)\n",
    "test_dataloader  = DataLoader(test_dataset,  batch_size=64, shuffle=False)\n"
   ]
  },
  {
   "cell_type": "markdown",
   "id": "0f68a8ae",
   "metadata": {},
   "source": [
    "## network"
   ]
  },
  {
   "cell_type": "code",
   "execution_count": 25,
   "id": "30412601",
   "metadata": {},
   "outputs": [],
   "source": [
    "class ProjectionModel(nn.Module):\n",
    "    def __init__(self, input_dim, projection_dim=256, dropout_rate=0.2):\n",
    "        super().__init__()\n",
    "        \n",
    "        self.advanced_head = nn.Sequential(\n",
    "            nn.Linear(input_dim, input_dim * 2),\n",
    "            nn.GELU(),\n",
    "            nn.LayerNorm(input_dim * 2),\n",
    "            nn.Dropout(dropout_rate),\n",
    "            nn.Linear(input_dim * 2, input_dim),\n",
    "            nn.GELU(),\n",
    "            nn.LayerNorm(input_dim),\n",
    "            nn.Dropout(dropout_rate),\n",
    "            nn.Linear(input_dim, projection_dim)\n",
    "        )\n",
    "    def forward(self, features):\n",
    "        return self.advanced_head(features)"
   ]
  },
  {
   "cell_type": "code",
   "execution_count": 27,
   "id": "1413e9e1",
   "metadata": {},
   "outputs": [],
   "source": [
    "class SharedProjectionModel(nn.Module):\n",
    "    def __init__(self, image_dim=1024, text_dim=768, projection_dim=256):\n",
    "        super().__init__()\n",
    "        self.image_head = ProjectionModel(image_dim, projection_dim)\n",
    "        self.text_head = ProjectionModel(text_dim, projection_dim)\n",
    "\n",
    "    def forward(self, image_features, text_features):\n",
    "        image_projection = self.image_head(image_features)\n",
    "        text_projection = self.text_head(text_features)\n",
    "        \n",
    "        return image_projection, text_projection\n"
   ]
  },
  {
   "cell_type": "markdown",
   "id": "73ee701b",
   "metadata": {},
   "source": [
    "## Training Faze"
   ]
  },
  {
   "cell_type": "code",
   "execution_count": 29,
   "id": "c742b439",
   "metadata": {},
   "outputs": [],
   "source": [
    "def plot_history(history):\n",
    "    print(\"\\n--- Plotting Training History ---\")\n",
    "    plt.figure(figsize=(12, 5))\n",
    "    plt.subplot(1, 2, 1)\n",
    "    plt.plot(history['train_loss'], label='Train Loss')\n",
    "    plt.plot(history['val_loss'], label='Validation Loss')\n",
    "    plt.title('Loss History')\n",
    "    plt.xlabel('Epochs')\n",
    "    plt.ylabel('Loss')\n",
    "    plt.legend()\n",
    "\n",
    "    plt.subplot(1, 2, 2)\n",
    "    plt.plot(history['train_acc'], label='Train Accuracy')\n",
    "    plt.plot(history['val_acc'], label='Validation Accuracy')\n",
    "    plt.title('Accuracy History')\n",
    "    plt.xlabel('Epochs')\n",
    "    plt.ylabel('Accuracy')\n",
    "    plt.legend()\n",
    "    plt.tight_layout()\n",
    "    plt.show()"
   ]
  },
  {
   "cell_type": "code",
   "execution_count": 30,
   "id": "d1f9360f",
   "metadata": {},
   "outputs": [],
   "source": [
    "class GlobalTripletLoss(nn.Module):\n",
    "    def __init__(self, margin=0.2):\n",
    "        super().__init__()\n",
    "        self.margin = margin\n",
    "\n",
    "    def forward(self, image_proj, all_text_proj, labels):\n",
    "     \n",
    "        image_proj = F.normalize(image_proj, p=2, dim=-1)\n",
    "        all_text_proj = F.normalize(all_text_proj, p=2, dim=-1)\n",
    "\n",
    "        positive_text_proj = all_text_proj[labels]\n",
    "        \n",
    "        positive_dist = 1 - torch.sum(image_proj * positive_text_proj, dim=1)\n",
    "\n",
    "        similarity_matrix = image_proj @ all_text_proj.T\n",
    "        \n",
    "        similarity_matrix.scatter_(1, labels.unsqueeze(1), -float('inf'))\n",
    "        \n",
    "        hard_negative_indices = torch.argmax(similarity_matrix, dim=1)\n",
    "        \n",
    "        negative_text_proj = all_text_proj[hard_negative_indices]\n",
    "        \n",
    "        negative_dist = 1 - torch.sum(image_proj * negative_text_proj, dim=1)\n",
    "\n",
    "        losses = F.relu(positive_dist - negative_dist + self.margin)\n",
    "        \n",
    "        return losses.mean()"
   ]
  },
  {
   "cell_type": "code",
   "execution_count": 31,
   "id": "c2defe0d",
   "metadata": {},
   "outputs": [],
   "source": [
    "def global_clip_loss(image_proj, text_proj, labels, temperature=1.0):\n",
    "    image_proj = F.normalize(image_proj, p=2, dim=-1)\n",
    "    text_proj = F.normalize(text_proj, p=2, dim=-1)\n",
    "    logits = (image_proj @ text_proj.T) / temperature\n",
    "    return F.cross_entropy(logits, labels)"
   ]
  },
  {
   "cell_type": "code",
   "execution_count": 32,
   "id": "0c64eeae",
   "metadata": {},
   "outputs": [],
   "source": [
    "def evaluate(model, dataloader, all_text_features, criterion, device):\n",
    "    model.eval()\n",
    "    total_loss = 0.0\n",
    "    correct_predictions = 0\n",
    "    total_samples = 0\n",
    "    with torch.no_grad():\n",
    "        all_text_proj = model.text_head(all_text_features)\n",
    "        for img_feats, labels in tqdm(dataloader, desc=\"Evaluating\"):\n",
    "            img_feats, labels = img_feats.to(device), labels.to(device)\n",
    "            img_proj = model.image_head(img_feats)\n",
    "            loss = criterion(img_proj, all_text_proj, labels)\n",
    "            \n",
    "            total_loss += loss.item() * img_feats.size(0)\n",
    "            logits = F.normalize(img_proj) @ F.normalize(all_text_proj).T\n",
    "            _, preds = torch.max(logits, 1)\n",
    "            correct_predictions += torch.sum(preds == labels).item()\n",
    "            total_samples += img_feats.size(0)\n",
    "    return total_loss / total_samples, correct_predictions / total_samples\n"
   ]
  },
  {
   "cell_type": "code",
   "execution_count": 39,
   "id": "4de3c88e",
   "metadata": {},
   "outputs": [],
   "source": [
    "def train_model_global(model, train_loader, valid_loader, all_text_features, optimizer, criterion, num_epochs, device,noise_level=0.02):\n",
    "    history = {'train_loss': [], 'train_acc': [], 'val_loss': [], 'val_acc': []}\n",
    "\n",
    "    for epoch in range(num_epochs):\n",
    "        model.eval()\n",
    "        with torch.no_grad():\n",
    "            all_text_proj = model.text_head(all_text_features)\n",
    "\n",
    "        model.train()\n",
    "        train_loss, train_corrects, train_total = 0.0, 0, 0\n",
    "\n",
    "        for img_feats, labels in tqdm(train_loader, desc=f\"[Epoch {epoch+1}] Training\"):\n",
    "            img_feats, labels = img_feats.to(device), labels.to(device)\n",
    "\n",
    "            optimizer.zero_grad()\n",
    "            img_feats = img_feats + (torch.randn_like(img_feats) * noise_level)\n",
    "            img_proj = model.image_head(img_feats)\n",
    "            \n",
    "            loss = criterion(img_proj, all_text_proj, labels)\n",
    "            \n",
    "            loss.backward()\n",
    "            optimizer.step()\n",
    "\n",
    "            train_loss += loss.item() * img_feats.size(0)\n",
    "            with torch.no_grad():\n",
    "                logits = (F.normalize(img_proj) @ F.normalize(all_text_proj).T)\n",
    "                _, preds = torch.max(logits, 1)\n",
    "                train_corrects += torch.sum(preds == labels).item()\n",
    "            train_total += img_feats.size(0)\n",
    "\n",
    "        history['train_loss'].append(train_loss / train_total)\n",
    "        history['train_acc'].append(train_corrects / train_total)\n",
    "\n",
    "        val_loss, val_acc = evaluate(model, valid_loader, all_text_features, criterion, device)\n",
    "        history['val_loss'].append(val_loss)\n",
    "        history['val_acc'].append(val_acc)\n",
    "        \n",
    "        print(f\"Epoch {epoch+1}/{num_epochs} | Train Loss: {history['train_loss'][-1]:.4f} | Train Acc: {history['train_acc'][-1]:.4f} | Val Loss: {val_loss:.4f} | Val Acc: {val_acc:.4f}\")\n",
    "    \n",
    "    return history\n"
   ]
  },
  {
   "cell_type": "code",
   "execution_count": 37,
   "id": "48fa76db",
   "metadata": {},
   "outputs": [
    {
     "name": "stderr",
     "output_type": "stream",
     "text": [
      "C:\\Users\\moah\\AppData\\Local\\Temp\\ipykernel_22656\\2289402776.py:7: FutureWarning: You are using `torch.load` with `weights_only=False` (the current default value), which uses the default pickle module implicitly. It is possible to construct malicious pickle data which will execute arbitrary code during unpickling (See https://github.com/pytorch/pytorch/blob/main/SECURITY.md#untrusted-models for more details). In a future release, the default value for `weights_only` will be flipped to `True`. This limits the functions that could be executed during unpickling. Arbitrary objects will no longer be allowed to be loaded via this mode unless they are explicitly allowlisted by the user via `torch.serialization.add_safe_globals`. We recommend you start setting `weights_only=True` for any use case where you don't have full control of the loaded file. Please open an issue on GitHub for any issues related to this experimental feature.\n",
      "  class_text_features_list = torch.load('./entry_data/gemini-short.pt')\n",
      "[Epoch 1] Training: 100%|██████████| 705/705 [00:02<00:00, 249.49it/s]\n",
      "Evaluating: 100%|██████████| 118/118 [00:00<00:00, 772.67it/s]\n"
     ]
    },
    {
     "name": "stdout",
     "output_type": "stream",
     "text": [
      "Epoch 1/25 | Train Loss: 4.1397 | Train Acc: 0.4692 | Val Loss: 4.0540 | Val Acc: 0.5669\n"
     ]
    },
    {
     "name": "stderr",
     "output_type": "stream",
     "text": [
      "[Epoch 2] Training: 100%|██████████| 705/705 [00:02<00:00, 274.56it/s]\n",
      "Evaluating: 100%|██████████| 118/118 [00:00<00:00, 774.60it/s]\n"
     ]
    },
    {
     "name": "stdout",
     "output_type": "stream",
     "text": [
      "Epoch 2/25 | Train Loss: 4.0316 | Train Acc: 0.6172 | Val Loss: 4.0104 | Val Acc: 0.6217\n"
     ]
    },
    {
     "name": "stderr",
     "output_type": "stream",
     "text": [
      "[Epoch 3] Training: 100%|██████████| 705/705 [00:02<00:00, 265.65it/s]\n",
      "Evaluating: 100%|██████████| 118/118 [00:00<00:00, 797.74it/s]\n"
     ]
    },
    {
     "name": "stdout",
     "output_type": "stream",
     "text": [
      "Epoch 3/25 | Train Loss: 3.9858 | Train Acc: 0.6874 | Val Loss: 3.9902 | Val Acc: 0.6585\n"
     ]
    },
    {
     "name": "stderr",
     "output_type": "stream",
     "text": [
      "[Epoch 4] Training: 100%|██████████| 705/705 [00:02<00:00, 307.47it/s]\n",
      "Evaluating: 100%|██████████| 118/118 [00:00<00:00, 772.80it/s]\n"
     ]
    },
    {
     "name": "stdout",
     "output_type": "stream",
     "text": [
      "Epoch 4/25 | Train Loss: 3.9541 | Train Acc: 0.7371 | Val Loss: 3.9762 | Val Acc: 0.6914\n"
     ]
    },
    {
     "name": "stderr",
     "output_type": "stream",
     "text": [
      "[Epoch 5] Training: 100%|██████████| 705/705 [00:02<00:00, 279.06it/s]\n",
      "Evaluating: 100%|██████████| 118/118 [00:00<00:00, 773.81it/s]\n"
     ]
    },
    {
     "name": "stdout",
     "output_type": "stream",
     "text": [
      "Epoch 5/25 | Train Loss: 3.9298 | Train Acc: 0.7775 | Val Loss: 3.9695 | Val Acc: 0.7038\n"
     ]
    },
    {
     "name": "stderr",
     "output_type": "stream",
     "text": [
      "[Epoch 6] Training: 100%|██████████| 705/705 [00:02<00:00, 297.53it/s]\n",
      "Evaluating: 100%|██████████| 118/118 [00:00<00:00, 830.98it/s]\n"
     ]
    },
    {
     "name": "stdout",
     "output_type": "stream",
     "text": [
      "Epoch 6/25 | Train Loss: 3.9113 | Train Acc: 0.8093 | Val Loss: 3.9669 | Val Acc: 0.7175\n"
     ]
    },
    {
     "name": "stderr",
     "output_type": "stream",
     "text": [
      "[Epoch 7] Training: 100%|██████████| 705/705 [00:02<00:00, 257.41it/s]\n",
      "Evaluating: 100%|██████████| 118/118 [00:00<00:00, 788.98it/s]\n"
     ]
    },
    {
     "name": "stdout",
     "output_type": "stream",
     "text": [
      "Epoch 7/25 | Train Loss: 3.8960 | Train Acc: 0.8357 | Val Loss: 3.9634 | Val Acc: 0.7219\n"
     ]
    },
    {
     "name": "stderr",
     "output_type": "stream",
     "text": [
      "[Epoch 8] Training: 100%|██████████| 705/705 [00:02<00:00, 275.86it/s]\n",
      "Evaluating: 100%|██████████| 118/118 [00:00<00:00, 415.44it/s]\n"
     ]
    },
    {
     "name": "stdout",
     "output_type": "stream",
     "text": [
      "Epoch 8/25 | Train Loss: 3.8844 | Train Acc: 0.8568 | Val Loss: 3.9633 | Val Acc: 0.7263\n"
     ]
    },
    {
     "name": "stderr",
     "output_type": "stream",
     "text": [
      "[Epoch 9] Training: 100%|██████████| 705/705 [00:03<00:00, 177.93it/s]\n",
      "Evaluating: 100%|██████████| 118/118 [00:00<00:00, 386.71it/s]\n"
     ]
    },
    {
     "name": "stdout",
     "output_type": "stream",
     "text": [
      "Epoch 9/25 | Train Loss: 3.8735 | Train Acc: 0.8759 | Val Loss: 3.9555 | Val Acc: 0.7327\n"
     ]
    },
    {
     "name": "stderr",
     "output_type": "stream",
     "text": [
      "[Epoch 10] Training: 100%|██████████| 705/705 [00:03<00:00, 178.66it/s]\n",
      "Evaluating: 100%|██████████| 118/118 [00:00<00:00, 290.84it/s]\n"
     ]
    },
    {
     "name": "stdout",
     "output_type": "stream",
     "text": [
      "Epoch 10/25 | Train Loss: 3.8665 | Train Acc: 0.8872 | Val Loss: 3.9607 | Val Acc: 0.7339\n"
     ]
    },
    {
     "name": "stderr",
     "output_type": "stream",
     "text": [
      "[Epoch 11] Training: 100%|██████████| 705/705 [00:04<00:00, 174.96it/s]\n",
      "Evaluating: 100%|██████████| 118/118 [00:00<00:00, 362.44it/s]\n"
     ]
    },
    {
     "name": "stdout",
     "output_type": "stream",
     "text": [
      "Epoch 11/25 | Train Loss: 3.8590 | Train Acc: 0.9014 | Val Loss: 3.9617 | Val Acc: 0.7361\n"
     ]
    },
    {
     "name": "stderr",
     "output_type": "stream",
     "text": [
      "[Epoch 12] Training: 100%|██████████| 705/705 [00:04<00:00, 175.45it/s]\n",
      "Evaluating: 100%|██████████| 118/118 [00:00<00:00, 372.24it/s]\n"
     ]
    },
    {
     "name": "stdout",
     "output_type": "stream",
     "text": [
      "Epoch 12/25 | Train Loss: 3.8537 | Train Acc: 0.9113 | Val Loss: 3.9593 | Val Acc: 0.7323\n"
     ]
    },
    {
     "name": "stderr",
     "output_type": "stream",
     "text": [
      "[Epoch 13] Training: 100%|██████████| 705/705 [00:03<00:00, 176.71it/s]\n",
      "Evaluating: 100%|██████████| 118/118 [00:00<00:00, 372.80it/s]\n"
     ]
    },
    {
     "name": "stdout",
     "output_type": "stream",
     "text": [
      "Epoch 13/25 | Train Loss: 3.8493 | Train Acc: 0.9190 | Val Loss: 3.9589 | Val Acc: 0.7359\n"
     ]
    },
    {
     "name": "stderr",
     "output_type": "stream",
     "text": [
      "[Epoch 14] Training: 100%|██████████| 705/705 [00:03<00:00, 179.11it/s]\n",
      "Evaluating: 100%|██████████| 118/118 [00:00<00:00, 286.66it/s]\n"
     ]
    },
    {
     "name": "stdout",
     "output_type": "stream",
     "text": [
      "Epoch 14/25 | Train Loss: 3.8452 | Train Acc: 0.9262 | Val Loss: 3.9591 | Val Acc: 0.7345\n"
     ]
    },
    {
     "name": "stderr",
     "output_type": "stream",
     "text": [
      "[Epoch 15] Training: 100%|██████████| 705/705 [00:04<00:00, 172.53it/s]\n",
      "Evaluating: 100%|██████████| 118/118 [00:00<00:00, 369.45it/s]\n"
     ]
    },
    {
     "name": "stdout",
     "output_type": "stream",
     "text": [
      "Epoch 15/25 | Train Loss: 3.8427 | Train Acc: 0.9315 | Val Loss: 3.9653 | Val Acc: 0.7352\n"
     ]
    },
    {
     "name": "stderr",
     "output_type": "stream",
     "text": [
      "[Epoch 16] Training: 100%|██████████| 705/705 [00:04<00:00, 175.30it/s]\n",
      "Evaluating: 100%|██████████| 118/118 [00:00<00:00, 366.53it/s]\n"
     ]
    },
    {
     "name": "stdout",
     "output_type": "stream",
     "text": [
      "Epoch 16/25 | Train Loss: 3.8382 | Train Acc: 0.9378 | Val Loss: 3.9672 | Val Acc: 0.7315\n"
     ]
    },
    {
     "name": "stderr",
     "output_type": "stream",
     "text": [
      "[Epoch 17] Training: 100%|██████████| 705/705 [00:03<00:00, 178.95it/s]\n",
      "Evaluating: 100%|██████████| 118/118 [00:00<00:00, 367.32it/s]\n"
     ]
    },
    {
     "name": "stdout",
     "output_type": "stream",
     "text": [
      "Epoch 17/25 | Train Loss: 3.8364 | Train Acc: 0.9422 | Val Loss: 3.9679 | Val Acc: 0.7312\n"
     ]
    },
    {
     "name": "stderr",
     "output_type": "stream",
     "text": [
      "[Epoch 18] Training: 100%|██████████| 705/705 [00:04<00:00, 172.87it/s]\n",
      "Evaluating: 100%|██████████| 118/118 [00:00<00:00, 361.76it/s]\n"
     ]
    },
    {
     "name": "stdout",
     "output_type": "stream",
     "text": [
      "Epoch 18/25 | Train Loss: 3.8343 | Train Acc: 0.9462 | Val Loss: 3.9689 | Val Acc: 0.7286\n"
     ]
    },
    {
     "name": "stderr",
     "output_type": "stream",
     "text": [
      "[Epoch 19] Training: 100%|██████████| 705/705 [00:04<00:00, 172.99it/s]\n",
      "Evaluating: 100%|██████████| 118/118 [00:00<00:00, 336.64it/s]\n"
     ]
    },
    {
     "name": "stdout",
     "output_type": "stream",
     "text": [
      "Epoch 19/25 | Train Loss: 3.8326 | Train Acc: 0.9502 | Val Loss: 3.9713 | Val Acc: 0.7286\n"
     ]
    },
    {
     "name": "stderr",
     "output_type": "stream",
     "text": [
      "[Epoch 20] Training: 100%|██████████| 705/705 [00:04<00:00, 175.74it/s]\n",
      "Evaluating: 100%|██████████| 118/118 [00:00<00:00, 374.47it/s]\n"
     ]
    },
    {
     "name": "stdout",
     "output_type": "stream",
     "text": [
      "Epoch 20/25 | Train Loss: 3.8303 | Train Acc: 0.9538 | Val Loss: 3.9687 | Val Acc: 0.7303\n"
     ]
    },
    {
     "name": "stderr",
     "output_type": "stream",
     "text": [
      "[Epoch 21] Training: 100%|██████████| 705/705 [00:04<00:00, 168.61it/s]\n",
      "Evaluating: 100%|██████████| 118/118 [00:00<00:00, 343.95it/s]\n"
     ]
    },
    {
     "name": "stdout",
     "output_type": "stream",
     "text": [
      "Epoch 21/25 | Train Loss: 3.8296 | Train Acc: 0.9543 | Val Loss: 3.9710 | Val Acc: 0.7246\n"
     ]
    },
    {
     "name": "stderr",
     "output_type": "stream",
     "text": [
      "[Epoch 22] Training: 100%|██████████| 705/705 [00:04<00:00, 172.50it/s]\n",
      "Evaluating: 100%|██████████| 118/118 [00:00<00:00, 374.11it/s]\n"
     ]
    },
    {
     "name": "stdout",
     "output_type": "stream",
     "text": [
      "Epoch 22/25 | Train Loss: 3.8287 | Train Acc: 0.9556 | Val Loss: 3.9770 | Val Acc: 0.7259\n"
     ]
    },
    {
     "name": "stderr",
     "output_type": "stream",
     "text": [
      "[Epoch 23] Training: 100%|██████████| 705/705 [00:03<00:00, 178.99it/s]\n",
      "Evaluating: 100%|██████████| 118/118 [00:00<00:00, 367.38it/s]\n"
     ]
    },
    {
     "name": "stdout",
     "output_type": "stream",
     "text": [
      "Epoch 23/25 | Train Loss: 3.8265 | Train Acc: 0.9595 | Val Loss: 3.9728 | Val Acc: 0.7264\n"
     ]
    },
    {
     "name": "stderr",
     "output_type": "stream",
     "text": [
      "[Epoch 24] Training: 100%|██████████| 705/705 [00:04<00:00, 174.97it/s]\n",
      "Evaluating: 100%|██████████| 118/118 [00:00<00:00, 364.91it/s]\n"
     ]
    },
    {
     "name": "stdout",
     "output_type": "stream",
     "text": [
      "Epoch 24/25 | Train Loss: 3.8258 | Train Acc: 0.9613 | Val Loss: 3.9759 | Val Acc: 0.7258\n"
     ]
    },
    {
     "name": "stderr",
     "output_type": "stream",
     "text": [
      "[Epoch 25] Training: 100%|██████████| 705/705 [00:04<00:00, 173.59it/s]\n",
      "Evaluating: 100%|██████████| 118/118 [00:00<00:00, 357.79it/s]"
     ]
    },
    {
     "name": "stdout",
     "output_type": "stream",
     "text": [
      "Epoch 25/25 | Train Loss: 3.8241 | Train Acc: 0.9633 | Val Loss: 3.9714 | Val Acc: 0.7353\n"
     ]
    },
    {
     "name": "stderr",
     "output_type": "stream",
     "text": [
      "\n"
     ]
    }
   ],
   "source": [
    "device = torch.device(\"cuda\" if torch.cuda.is_available() else \"cpu\")\n",
    "model = SharedProjectionModel(image_dim=1024, text_dim=768, projection_dim=256).to(device)\n",
    "optimizer = torch.optim.AdamW(model.parameters(), lr=1e-4)\n",
    "criterion = global_clip_loss\n",
    "\n",
    "\n",
    "class_text_features_list = torch.load('./entry_data/gemini-short.pt')\n",
    "all_text_features = torch.cat([item['text_features'] for item in class_text_features_list]).to(device)\n",
    "\n",
    "history = train_model_global(model, train_dataloader, valid_dataloader, all_text_features, optimizer, criterion, num_epochs=25, device=device)"
   ]
  },
  {
   "cell_type": "code",
   "execution_count": 38,
   "id": "dca77a6f",
   "metadata": {},
   "outputs": [
    {
     "name": "stdout",
     "output_type": "stream",
     "text": [
      "\n",
      "--- Plotting Training History ---\n"
     ]
    },
    {
     "data": {
      "image/png": "[encoded data removed]",
      "text/plain": [
       "<Figure size 1200x500 with 2 Axes>"
      ]
     },
     "metadata": {},
     "output_type": "display_data"
    },
    {
     "name": "stdout",
     "output_type": "stream",
     "text": [
      "\n",
      "--- Final Evaluation on Test Data ---\n"
     ]
    },
    {
     "name": "stderr",
     "output_type": "stream",
     "text": [
      "Evaluating: 100%|██████████| 354/354 [00:01<00:00, 337.31it/s]"
     ]
    },
    {
     "name": "stdout",
     "output_type": "stream",
     "text": [
      "Test Loss: 3.9765 | Test Accuracy: 0.7265\n"
     ]
    },
    {
     "name": "stderr",
     "output_type": "stream",
     "text": [
      "\n"
     ]
    }
   ],
   "source": [
    "plot_history(history)\n",
    "\n",
    "print(\"\\n--- Final Evaluation on Test Data ---\")\n",
    "test_loss, test_acc = evaluate(model, test_dataloader, all_text_features, criterion, device)\n",
    "print(f\"Test Loss: {test_loss:.4f} | Test Accuracy: {test_acc:.4f}\")"
   ]
  },
  {
   "cell_type": "code",
   "execution_count": 44,
   "id": "e358562d",
   "metadata": {},
   "outputs": [
    {
     "name": "stderr",
     "output_type": "stream",
     "text": [
      "C:\\Users\\moah\\AppData\\Local\\Temp\\ipykernel_22656\\599568363.py:7: FutureWarning: You are using `torch.load` with `weights_only=False` (the current default value), which uses the default pickle module implicitly. It is possible to construct malicious pickle data which will execute arbitrary code during unpickling (See https://github.com/pytorch/pytorch/blob/main/SECURITY.md#untrusted-models for more details). In a future release, the default value for `weights_only` will be flipped to `True`. This limits the functions that could be executed during unpickling. Arbitrary objects will no longer be allowed to be loaded via this mode unless they are explicitly allowlisted by the user via `torch.serialization.add_safe_globals`. We recommend you start setting `weights_only=True` for any use case where you don't have full control of the loaded file. Please open an issue on GitHub for any issues related to this experimental feature.\n",
      "  class_text_features_list = torch.load('./entry_data/gemini-long.pt')\n",
      "[Epoch 1] Training: 100%|██████████| 705/705 [00:02<00:00, 250.09it/s]\n",
      "Evaluating: 100%|██████████| 118/118 [00:00<00:00, 773.27it/s]\n"
     ]
    },
    {
     "name": "stdout",
     "output_type": "stream",
     "text": [
      "Epoch 1/17 | Train Loss: 4.1991 | Train Acc: 0.4823 | Val Loss: 4.1168 | Val Acc: 0.5633\n"
     ]
    },
    {
     "name": "stderr",
     "output_type": "stream",
     "text": [
      "[Epoch 2] Training: 100%|██████████| 705/705 [00:02<00:00, 275.65it/s]\n",
      "Evaluating: 100%|██████████| 118/118 [00:00<00:00, 741.48it/s]\n"
     ]
    },
    {
     "name": "stdout",
     "output_type": "stream",
     "text": [
      "Epoch 2/17 | Train Loss: 4.0971 | Train Acc: 0.6169 | Val Loss: 4.0746 | Val Acc: 0.6359\n"
     ]
    },
    {
     "name": "stderr",
     "output_type": "stream",
     "text": [
      "[Epoch 3] Training: 100%|██████████| 705/705 [00:02<00:00, 252.38it/s]\n",
      "Evaluating: 100%|██████████| 118/118 [00:00<00:00, 601.74it/s]\n"
     ]
    },
    {
     "name": "stdout",
     "output_type": "stream",
     "text": [
      "Epoch 3/17 | Train Loss: 4.0536 | Train Acc: 0.6901 | Val Loss: 4.0559 | Val Acc: 0.6680\n"
     ]
    },
    {
     "name": "stderr",
     "output_type": "stream",
     "text": [
      "[Epoch 4] Training: 100%|██████████| 705/705 [00:02<00:00, 282.86it/s]\n",
      "Evaluating: 100%|██████████| 118/118 [00:00<00:00, 542.85it/s]\n"
     ]
    },
    {
     "name": "stdout",
     "output_type": "stream",
     "text": [
      "Epoch 4/17 | Train Loss: 4.0242 | Train Acc: 0.7398 | Val Loss: 4.0439 | Val Acc: 0.6921\n"
     ]
    },
    {
     "name": "stderr",
     "output_type": "stream",
     "text": [
      "[Epoch 5] Training: 100%|██████████| 705/705 [00:02<00:00, 276.32it/s]\n",
      "Evaluating: 100%|██████████| 118/118 [00:00<00:00, 733.33it/s]\n"
     ]
    },
    {
     "name": "stdout",
     "output_type": "stream",
     "text": [
      "Epoch 5/17 | Train Loss: 4.0012 | Train Acc: 0.7810 | Val Loss: 4.0393 | Val Acc: 0.7116\n"
     ]
    },
    {
     "name": "stderr",
     "output_type": "stream",
     "text": [
      "[Epoch 6] Training: 100%|██████████| 705/705 [00:02<00:00, 258.29it/s]\n",
      "Evaluating: 100%|██████████| 118/118 [00:00<00:00, 421.90it/s]\n"
     ]
    },
    {
     "name": "stdout",
     "output_type": "stream",
     "text": [
      "Epoch 6/17 | Train Loss: 3.9836 | Train Acc: 0.8164 | Val Loss: 4.0353 | Val Acc: 0.7164\n"
     ]
    },
    {
     "name": "stderr",
     "output_type": "stream",
     "text": [
      "[Epoch 7] Training: 100%|██████████| 705/705 [00:04<00:00, 170.63it/s]\n",
      "Evaluating: 100%|██████████| 118/118 [00:00<00:00, 385.27it/s]\n"
     ]
    },
    {
     "name": "stdout",
     "output_type": "stream",
     "text": [
      "Epoch 7/17 | Train Loss: 3.9698 | Train Acc: 0.8428 | Val Loss: 4.0305 | Val Acc: 0.7242\n"
     ]
    },
    {
     "name": "stderr",
     "output_type": "stream",
     "text": [
      "[Epoch 8] Training: 100%|██████████| 705/705 [00:03<00:00, 178.28it/s]\n",
      "Evaluating: 100%|██████████| 118/118 [00:00<00:00, 373.86it/s]\n"
     ]
    },
    {
     "name": "stdout",
     "output_type": "stream",
     "text": [
      "Epoch 8/17 | Train Loss: 3.9584 | Train Acc: 0.8652 | Val Loss: 4.0302 | Val Acc: 0.7259\n"
     ]
    },
    {
     "name": "stderr",
     "output_type": "stream",
     "text": [
      "[Epoch 9] Training: 100%|██████████| 705/705 [00:03<00:00, 178.23it/s]\n",
      "Evaluating: 100%|██████████| 118/118 [00:00<00:00, 371.23it/s]\n"
     ]
    },
    {
     "name": "stdout",
     "output_type": "stream",
     "text": [
      "Epoch 9/17 | Train Loss: 3.9498 | Train Acc: 0.8826 | Val Loss: 4.0290 | Val Acc: 0.7352\n"
     ]
    },
    {
     "name": "stderr",
     "output_type": "stream",
     "text": [
      "[Epoch 10] Training: 100%|██████████| 705/705 [00:03<00:00, 178.20it/s]\n",
      "Evaluating: 100%|██████████| 118/118 [00:00<00:00, 375.63it/s]\n"
     ]
    },
    {
     "name": "stdout",
     "output_type": "stream",
     "text": [
      "Epoch 10/17 | Train Loss: 3.9424 | Train Acc: 0.8977 | Val Loss: 4.0340 | Val Acc: 0.7399\n"
     ]
    },
    {
     "name": "stderr",
     "output_type": "stream",
     "text": [
      "[Epoch 11] Training: 100%|██████████| 705/705 [00:03<00:00, 180.08it/s]\n",
      "Evaluating: 100%|██████████| 118/118 [00:00<00:00, 358.87it/s]\n"
     ]
    },
    {
     "name": "stdout",
     "output_type": "stream",
     "text": [
      "Epoch 11/17 | Train Loss: 3.9363 | Train Acc: 0.9087 | Val Loss: 4.0291 | Val Acc: 0.7379\n"
     ]
    },
    {
     "name": "stderr",
     "output_type": "stream",
     "text": [
      "[Epoch 12] Training: 100%|██████████| 705/705 [00:03<00:00, 219.76it/s]\n",
      "Evaluating: 100%|██████████| 118/118 [00:00<00:00, 681.00it/s]\n"
     ]
    },
    {
     "name": "stdout",
     "output_type": "stream",
     "text": [
      "Epoch 12/17 | Train Loss: 3.9311 | Train Acc: 0.9186 | Val Loss: 4.0322 | Val Acc: 0.7320\n"
     ]
    },
    {
     "name": "stderr",
     "output_type": "stream",
     "text": [
      "[Epoch 13] Training: 100%|██████████| 705/705 [00:02<00:00, 272.27it/s]\n",
      "Evaluating: 100%|██████████| 118/118 [00:00<00:00, 621.02it/s]\n"
     ]
    },
    {
     "name": "stdout",
     "output_type": "stream",
     "text": [
      "Epoch 13/17 | Train Loss: 3.9265 | Train Acc: 0.9277 | Val Loss: 4.0332 | Val Acc: 0.7316\n"
     ]
    },
    {
     "name": "stderr",
     "output_type": "stream",
     "text": [
      "[Epoch 14] Training: 100%|██████████| 705/705 [00:02<00:00, 296.03it/s]\n",
      "Evaluating: 100%|██████████| 118/118 [00:00<00:00, 808.23it/s]\n"
     ]
    },
    {
     "name": "stdout",
     "output_type": "stream",
     "text": [
      "Epoch 14/17 | Train Loss: 3.9233 | Train Acc: 0.9325 | Val Loss: 4.0304 | Val Acc: 0.7369\n"
     ]
    },
    {
     "name": "stderr",
     "output_type": "stream",
     "text": [
      "[Epoch 15] Training: 100%|██████████| 705/705 [00:02<00:00, 293.61it/s]\n",
      "Evaluating: 100%|██████████| 118/118 [00:00<00:00, 743.44it/s]\n"
     ]
    },
    {
     "name": "stdout",
     "output_type": "stream",
     "text": [
      "Epoch 15/17 | Train Loss: 3.9195 | Train Acc: 0.9393 | Val Loss: 4.0363 | Val Acc: 0.7331\n"
     ]
    },
    {
     "name": "stderr",
     "output_type": "stream",
     "text": [
      "[Epoch 16] Training: 100%|██████████| 705/705 [00:02<00:00, 302.18it/s]\n",
      "Evaluating: 100%|██████████| 118/118 [00:00<00:00, 820.99it/s]\n"
     ]
    },
    {
     "name": "stdout",
     "output_type": "stream",
     "text": [
      "Epoch 16/17 | Train Loss: 3.9161 | Train Acc: 0.9448 | Val Loss: 4.0345 | Val Acc: 0.7353\n"
     ]
    },
    {
     "name": "stderr",
     "output_type": "stream",
     "text": [
      "[Epoch 17] Training: 100%|██████████| 705/705 [00:02<00:00, 299.29it/s]\n",
      "Evaluating: 100%|██████████| 118/118 [00:00<00:00, 795.86it/s]"
     ]
    },
    {
     "name": "stdout",
     "output_type": "stream",
     "text": [
      "Epoch 17/17 | Train Loss: 3.9143 | Train Acc: 0.9499 | Val Loss: 4.0390 | Val Acc: 0.7328\n"
     ]
    },
    {
     "name": "stderr",
     "output_type": "stream",
     "text": [
      "\n"
     ]
    }
   ],
   "source": [
    "device = torch.device(\"cuda\" if torch.cuda.is_available() else \"cpu\")\n",
    "model = SharedProjectionModel(image_dim=1024, text_dim=768, projection_dim=256).to(device)\n",
    "optimizer = torch.optim.AdamW(model.parameters(), lr=1e-4)\n",
    "criterion = global_clip_loss\n",
    "\n",
    "\n",
    "class_text_features_list = torch.load('./entry_data/gemini-long.pt')\n",
    "all_text_features = torch.cat([item['text_features'] for item in class_text_features_list]).to(device)\n",
    "\n",
    "history = train_model_global(model, train_dataloader, valid_dataloader, all_text_features, optimizer, criterion, num_epochs=17, device=device)"
   ]
  },
  {
   "cell_type": "code",
   "execution_count": 46,
   "id": "97f1d945",
   "metadata": {},
   "outputs": [
    {
     "name": "stdout",
     "output_type": "stream",
     "text": [
      "\n",
      "--- Plotting Training History ---\n"
     ]
    },
    {
     "data": {
      "image/png": "[encoded data removed]",
      "text/plain": [
       "<Figure size 1200x500 with 2 Axes>"
      ]
     },
     "metadata": {},
     "output_type": "display_data"
    },
    {
     "name": "stdout",
     "output_type": "stream",
     "text": [
      "\n",
      "--- Final Evaluation on Test Data ---\n"
     ]
    },
    {
     "name": "stderr",
     "output_type": "stream",
     "text": [
      "Evaluating: 100%|██████████| 354/354 [00:00<00:00, 465.29it/s]"
     ]
    },
    {
     "name": "stdout",
     "output_type": "stream",
     "text": [
      "Test Loss: 4.0414 | Test Accuracy: 0.7246\n"
     ]
    },
    {
     "name": "stderr",
     "output_type": "stream",
     "text": [
      "\n"
     ]
    }
   ],
   "source": [
    "plot_history(history)\n",
    "\n",
    "print(\"\\n--- Final Evaluation on Test Data ---\")\n",
    "test_loss, test_acc = evaluate(model, test_dataloader, all_text_features, criterion, device)\n",
    "print(f\"Test Loss: {test_loss:.4f} | Test Accuracy: {test_acc:.4f}\")"
   ]
  }
 ],
 "metadata": {
  "kernelspec": {
   "display_name": "base",
   "language": "python",
   "name": "python3"
  },
  "language_info": {
   "codemirror_mode": {
    "name": "ipython",
    "version": 3
   },
   "file_extension": ".py",
   "mimetype": "text/x-python",
   "name": "python",
   "nbconvert_exporter": "python",
   "pygments_lexer": "ipython3",
   "version": "3.12.7"
  }
 },
 "nbformat": 4,
 "nbformat_minor": 5
}
